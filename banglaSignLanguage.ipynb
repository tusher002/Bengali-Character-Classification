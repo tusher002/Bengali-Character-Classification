{
 "cells": [
  {
   "cell_type": "code",
   "execution_count": 1,
   "metadata": {},
   "outputs": [],
   "source": [
    "import numpy as np\n",
    "import pandas as pd \n",
    "from pandas import Series, DataFrame\n",
    "import cv2\n",
    "import os\n",
    "import seaborn as sns\n",
    "import matplotlib.pyplot as plt\n",
    "import os\n",
    "import matplotlib.image as mpimg\n",
    "import tensorflow as tf\n",
    "from tensorflow.keras.optimizers import RMSprop"
   ]
  },
  {
   "cell_type": "code",
   "execution_count": 2,
   "metadata": {},
   "outputs": [],
   "source": [
    "dataset_1_dir = os.path.join('database\\\\1')\n",
    "dataset_2_dir = os.path.join('database\\\\2')\n",
    "dataset_3_dir = os.path.join('database\\\\3')\n",
    "dataset_4_dir = os.path.join('database\\\\4')\n",
    "dataset_5_dir = os.path.join('database\\\\5')\n",
    "dataset_6_dir = os.path.join('database\\\\6')\n",
    "dataset_7_dir = os.path.join('database\\\\7')\n",
    "dataset_8_dir = os.path.join('database\\\\8')\n",
    "dataset_9_dir = os.path.join('database\\\\9')\n",
    "dataset_10_dir = os.path.join('database\\\\10')\n",
    "dataset_11_dir = os.path.join('database\\\\11')\n",
    "dataset_12_dir = os.path.join('database\\\\12')\n",
    "dataset_13_dir = os.path.join('database\\\\13')\n",
    "dataset_14_dir = os.path.join('database\\\\14')\n",
    "dataset_15_dir = os.path.join('database\\\\15')\n",
    "dataset_16_dir = os.path.join('database\\\\16')\n",
    "dataset_17_dir = os.path.join('database\\\\17')\n",
    "dataset_18_dir = os.path.join('database\\\\18')\n",
    "dataset_19_dir = os.path.join('database\\\\19')\n",
    "dataset_20_dir = os.path.join('database\\\\20')\n",
    "dataset_21_dir = os.path.join('database\\\\21')\n",
    "dataset_22_dir = os.path.join('database\\\\22')\n",
    "dataset_23_dir = os.path.join('database\\\\23')\n",
    "dataset_24_dir = os.path.join('database\\\\24')\n",
    "dataset_25_dir = os.path.join('database\\\\25')\n",
    "dataset_26_dir = os.path.join('database\\\\26')\n",
    "dataset_27_dir = os.path.join('database\\\\27')\n",
    "dataset_28_dir = os.path.join('database\\\\28')\n",
    "dataset_29_dir = os.path.join('database\\\\29')\n",
    "dataset_30_dir = os.path.join('database\\\\30')\n",
    "dataset_31_dir = os.path.join('database\\\\31')\n",
    "dataset_32_dir = os.path.join('database\\\\32')\n",
    "dataset_33_dir = os.path.join('database\\\\33')\n",
    "dataset_34_dir = os.path.join('database\\\\34')\n",
    "dataset_35_dir = os.path.join('database\\\\35')\n",
    "dataset_36_dir = os.path.join('database\\\\36')"
   ]
  },
  {
   "cell_type": "markdown",
   "metadata": {},
   "source": [
    "## Print number of images "
   ]
  },
  {
   "cell_type": "code",
   "execution_count": 3,
   "metadata": {},
   "outputs": [
    {
     "name": "stdout",
     "output_type": "stream",
     "text": [
      "total dataset_1_dir images: 26\n",
      "total dataset_2_dir images: 21\n",
      "total dataset_3_dir images: 31\n",
      "total dataset_4_dir images: 22\n",
      "total dataset_5_dir images: 21\n",
      "total dataset_6_dir images: 27\n",
      "total dataset_7_dir images: 23\n",
      "total dataset_8_dir images: 24\n",
      "total dataset_9_dir images: 22\n",
      "total dataset_10_dir images: 25\n",
      "total dataset_11_dir images: 23\n",
      "total dataset_12_dir images: 18\n",
      "total dataset_13_dir images: 24\n",
      "total dataset_14_dir images: 26\n",
      "total dataset_15_dir images: 22\n",
      "total dataset_16_dir images: 25\n",
      "total dataset_17_dir images: 22\n",
      "total dataset_18_dir images: 26\n",
      "total dataset_19_dir images: 19\n",
      "total dataset_20_dir images: 22\n",
      "total dataset_21_dir images: 24\n",
      "total dataset_22_dir images: 22\n",
      "total dataset_23_dir images: 24\n",
      "total dataset_24_dir images: 25\n",
      "total dataset_25_dir images: 21\n",
      "total dataset_26_dir images: 24\n",
      "total dataset_27_dir images: 20\n",
      "total dataset_28_dir images: 22\n",
      "total dataset_29_dir images: 23\n",
      "total dataset_30_dir images: 24\n",
      "total dataset_31_dir images: 24\n",
      "total dataset_32_dir images: 21\n",
      "total dataset_33_dir images: 23\n",
      "total dataset_34_dir images: 23\n",
      "total dataset_35_dir images: 20\n",
      "total dataset_36_dir images: 22\n"
     ]
    }
   ],
   "source": [
    "print('total dataset_1_dir images:', len(os.listdir(dataset_1_dir)))\n",
    "print('total dataset_2_dir images:', len(os.listdir(dataset_2_dir)))\n",
    "print('total dataset_3_dir images:', len(os.listdir(dataset_3_dir)))\n",
    "print('total dataset_4_dir images:', len(os.listdir(dataset_4_dir)))\n",
    "print('total dataset_5_dir images:', len(os.listdir(dataset_5_dir)))\n",
    "print('total dataset_6_dir images:', len(os.listdir(dataset_6_dir)))\n",
    "print('total dataset_7_dir images:', len(os.listdir(dataset_7_dir)))\n",
    "print('total dataset_8_dir images:', len(os.listdir(dataset_8_dir)))\n",
    "print('total dataset_9_dir images:', len(os.listdir(dataset_9_dir)))\n",
    "print('total dataset_10_dir images:', len(os.listdir(dataset_10_dir)))\n",
    "print('total dataset_11_dir images:', len(os.listdir(dataset_11_dir)))\n",
    "print('total dataset_12_dir images:', len(os.listdir(dataset_12_dir)))\n",
    "print('total dataset_13_dir images:', len(os.listdir(dataset_13_dir)))\n",
    "print('total dataset_14_dir images:', len(os.listdir(dataset_14_dir)))\n",
    "print('total dataset_15_dir images:', len(os.listdir(dataset_15_dir)))\n",
    "print('total dataset_16_dir images:', len(os.listdir(dataset_16_dir)))\n",
    "print('total dataset_17_dir images:', len(os.listdir(dataset_17_dir)))\n",
    "print('total dataset_18_dir images:', len(os.listdir(dataset_18_dir)))\n",
    "print('total dataset_19_dir images:', len(os.listdir(dataset_19_dir)))\n",
    "print('total dataset_20_dir images:', len(os.listdir(dataset_20_dir)))\n",
    "print('total dataset_21_dir images:', len(os.listdir(dataset_21_dir)))\n",
    "print('total dataset_22_dir images:', len(os.listdir(dataset_22_dir)))\n",
    "print('total dataset_23_dir images:', len(os.listdir(dataset_23_dir)))\n",
    "print('total dataset_24_dir images:', len(os.listdir(dataset_24_dir)))\n",
    "print('total dataset_25_dir images:', len(os.listdir(dataset_25_dir)))\n",
    "print('total dataset_26_dir images:', len(os.listdir(dataset_26_dir)))\n",
    "print('total dataset_27_dir images:', len(os.listdir(dataset_27_dir)))\n",
    "print('total dataset_28_dir images:', len(os.listdir(dataset_28_dir)))\n",
    "print('total dataset_29_dir images:', len(os.listdir(dataset_29_dir)))\n",
    "print('total dataset_30_dir images:', len(os.listdir(dataset_30_dir)))\n",
    "print('total dataset_31_dir images:', len(os.listdir(dataset_31_dir)))\n",
    "print('total dataset_32_dir images:', len(os.listdir(dataset_32_dir)))\n",
    "print('total dataset_33_dir images:', len(os.listdir(dataset_33_dir)))\n",
    "print('total dataset_34_dir images:', len(os.listdir(dataset_34_dir)))\n",
    "print('total dataset_35_dir images:', len(os.listdir(dataset_35_dir)))\n",
    "print('total dataset_36_dir images:', len(os.listdir(dataset_36_dir)))\n"
   ]
  },
  {
   "cell_type": "code",
   "execution_count": 4,
   "metadata": {},
   "outputs": [],
   "source": [
    "batch_size = 64"
   ]
  },
  {
   "cell_type": "code",
   "execution_count": 5,
   "metadata": {},
   "outputs": [],
   "source": [
    "from tensorflow.keras.preprocessing.image import ImageDataGenerator"
   ]
  },
  {
   "cell_type": "code",
   "execution_count": 6,
   "metadata": {},
   "outputs": [
    {
     "name": "stdout",
     "output_type": "stream",
     "text": [
      "Found 831 images belonging to 36 classes.\n"
     ]
    }
   ],
   "source": [
    "# All images will be rescaled by 1./255\n",
    "train_datagen = ImageDataGenerator(rescale=1/255)\n",
    "\n",
    "# Flow training images in batches of 128 using train_datagen generator\n",
    "train_generator = train_datagen.flow_from_directory(\n",
    "        'database//',  # This is the source directory for training images\n",
    "        target_size=(64, 64),  # All images will be resized to 200 x 200\n",
    "        batch_size=batch_size,\n",
    "        # Specify the classes explicitly\n",
    "        classes = ['1',\n",
    "                   '2',\n",
    "                   '3',\n",
    "                   '4',\n",
    "                   '5',\n",
    "                   '6',\n",
    "                   '7',\n",
    "                   '8',\n",
    "                   '9',\n",
    "                   '10',\n",
    "                   '11',\n",
    "                   '12',\n",
    "                   '13',\n",
    "                   '14',\n",
    "                   '15',\n",
    "                   '16',\n",
    "                   '17',\n",
    "                   '18',\n",
    "                   '19',\n",
    "                   '20',\n",
    "                   '21',\n",
    "                   '22',\n",
    "                   '23',\n",
    "                   '24',\n",
    "                   '25',\n",
    "                   '26',\n",
    "                   '27',\n",
    "                   '28',\n",
    "                   '29',\n",
    "                   '30',\n",
    "                   '31',\n",
    "                   '32',\n",
    "                   '33',\n",
    "                   '34',\n",
    "                   '35',\n",
    "                   '36'],\n",
    "        # Since we use categorical_crossentropy loss, we need categorical labels\n",
    "        class_mode='categorical')"
   ]
  },
  {
   "cell_type": "code",
   "execution_count": 7,
   "metadata": {},
   "outputs": [],
   "source": [
    "model = tf.keras.Sequential()\n",
    "# Must define the input shape in the first layer of the neural network\n",
    "model.add(tf.keras.layers.Conv2D(filters=64, kernel_size=3, \n",
    "                                 padding='same', activation='relu', input_shape=(64,64,3))) \n",
    "model.add(tf.keras.layers.MaxPooling2D(pool_size=2))\n",
    "model.add(tf.keras.layers.Dropout(0.3))\n",
    "\n",
    "model.add(tf.keras.layers.Conv2D(filters=64, kernel_size=3, padding='same', activation='relu'))\n",
    "model.add(tf.keras.layers.MaxPooling2D(pool_size=2))\n",
    "model.add(tf.keras.layers.Dropout(0.3))\n",
    "\n",
    "model.add(tf.keras.layers.Flatten())\n",
    "model.add(tf.keras.layers.Dense(128, activation='relu'))\n",
    "model.add(tf.keras.layers.Dropout(0.5))\n",
    "\n",
    "model.add(tf.keras.layers.Dense(36, activation='softmax'))\n",
    "\n"
   ]
  },
  {
   "cell_type": "code",
   "execution_count": 8,
   "metadata": {},
   "outputs": [
    {
     "name": "stdout",
     "output_type": "stream",
     "text": [
      "Model: \"sequential\"\n",
      "_________________________________________________________________\n",
      "Layer (type)                 Output Shape              Param #   \n",
      "=================================================================\n",
      "conv2d (Conv2D)              (None, 64, 64, 64)        1792      \n",
      "_________________________________________________________________\n",
      "max_pooling2d (MaxPooling2D) (None, 32, 32, 64)        0         \n",
      "_________________________________________________________________\n",
      "dropout (Dropout)            (None, 32, 32, 64)        0         \n",
      "_________________________________________________________________\n",
      "conv2d_1 (Conv2D)            (None, 32, 32, 64)        36928     \n",
      "_________________________________________________________________\n",
      "max_pooling2d_1 (MaxPooling2 (None, 16, 16, 64)        0         \n",
      "_________________________________________________________________\n",
      "dropout_1 (Dropout)          (None, 16, 16, 64)        0         \n",
      "_________________________________________________________________\n",
      "flatten (Flatten)            (None, 16384)             0         \n",
      "_________________________________________________________________\n",
      "dense (Dense)                (None, 128)               2097280   \n",
      "_________________________________________________________________\n",
      "dropout_2 (Dropout)          (None, 128)               0         \n",
      "_________________________________________________________________\n",
      "dense_1 (Dense)              (None, 36)                4644      \n",
      "=================================================================\n",
      "Total params: 2,140,644\n",
      "Trainable params: 2,140,644\n",
      "Non-trainable params: 0\n",
      "_________________________________________________________________\n"
     ]
    }
   ],
   "source": [
    "model.summary()"
   ]
  },
  {
   "cell_type": "code",
   "execution_count": 9,
   "metadata": {},
   "outputs": [],
   "source": [
    "model.compile(loss='categorical_crossentropy',\n",
    "              optimizer=RMSprop(lr=0.001),\n",
    "              metrics=['acc'])"
   ]
  },
  {
   "cell_type": "code",
   "execution_count": 10,
   "metadata": {},
   "outputs": [],
   "source": [
    "total_sample=train_generator.n"
   ]
  },
  {
   "cell_type": "code",
   "execution_count": 11,
   "metadata": {},
   "outputs": [],
   "source": [
    "n_epochs = 50"
   ]
  },
  {
   "cell_type": "code",
   "execution_count": 12,
   "metadata": {
    "scrolled": true
   },
   "outputs": [
    {
     "name": "stdout",
     "output_type": "stream",
     "text": [
      "Epoch 1/50\n",
      "12/12 [==============================] - 8s 701ms/step - loss: 3.8257 - acc: 0.0248\n",
      "Epoch 2/50\n",
      "12/12 [==============================] - 10s 853ms/step - loss: 3.5813 - acc: 0.0352\n",
      "Epoch 3/50\n",
      "12/12 [==============================] - 12s 1s/step - loss: 3.5791 - acc: 0.0391\n",
      "Epoch 4/50\n",
      "12/12 [==============================] - 13s 1s/step - loss: 3.5180 - acc: 0.0469\n",
      "Epoch 5/50\n",
      "12/12 [==============================] - 12s 1s/step - loss: 3.3625 - acc: 0.0939\n",
      "Epoch 6/50\n",
      "12/12 [==============================] - 15s 1s/step - loss: 3.2601 - acc: 0.1056\n",
      "Epoch 7/50\n",
      "12/12 [==============================] - 15s 1s/step - loss: 3.0975 - acc: 0.1380\n",
      "Epoch 8/50\n",
      "12/12 [==============================] - 13s 1s/step - loss: 2.9688 - acc: 0.1893\n",
      "Epoch 9/50\n",
      "12/12 [==============================] - 14s 1s/step - loss: 2.8555 - acc: 0.1797\n",
      "Epoch 10/50\n",
      "12/12 [==============================] - 14s 1s/step - loss: 2.8178 - acc: 0.2060\n",
      "Epoch 11/50\n",
      "12/12 [==============================] - 15s 1s/step - loss: 2.6375 - acc: 0.2533\n",
      "Epoch 12/50\n",
      "12/12 [==============================] - 15s 1s/step - loss: 2.4790 - acc: 0.2708\n",
      "Epoch 13/50\n",
      "12/12 [==============================] - 14s 1s/step - loss: 2.3891 - acc: 0.3051\n",
      "Epoch 14/50\n",
      "12/12 [==============================] - 14s 1s/step - loss: 2.2678 - acc: 0.3351\n",
      "Epoch 15/50\n",
      "12/12 [==============================] - 15s 1s/step - loss: 2.2120 - acc: 0.3403\n",
      "Epoch 16/50\n",
      "12/12 [==============================] - 16s 1s/step - loss: 2.1405 - acc: 0.3611\n",
      "Epoch 17/50\n",
      "12/12 [==============================] - 17s 1s/step - loss: 2.0155 - acc: 0.4049\n",
      "Epoch 18/50\n",
      "12/12 [==============================] - 15s 1s/step - loss: 1.8856 - acc: 0.4256\n",
      "Epoch 19/50\n",
      "12/12 [==============================] - 15s 1s/step - loss: 1.7886 - acc: 0.4648\n",
      "Epoch 20/50\n",
      "12/12 [==============================] - 14s 1s/step - loss: 1.7455 - acc: 0.4681\n",
      "Epoch 21/50\n",
      "12/12 [==============================] - 15s 1s/step - loss: 1.6381 - acc: 0.5091\n",
      "Epoch 22/50\n",
      "12/12 [==============================] - 15s 1s/step - loss: 1.6517 - acc: 0.5046\n",
      "Epoch 23/50\n",
      "12/12 [==============================] - 15s 1s/step - loss: 1.4813 - acc: 0.5267\n",
      "Epoch 24/50\n",
      "12/12 [==============================] - 16s 1s/step - loss: 1.4651 - acc: 0.5612\n",
      "Epoch 25/50\n",
      "12/12 [==============================] - 16s 1s/step - loss: 1.4037 - acc: 0.5632\n",
      "Epoch 26/50\n",
      "12/12 [==============================] - 15s 1s/step - loss: 1.2520 - acc: 0.6115\n",
      "Epoch 27/50\n",
      "12/12 [==============================] - 16s 1s/step - loss: 1.2274 - acc: 0.6154\n",
      "Epoch 28/50\n",
      "12/12 [==============================] - 17s 1s/step - loss: 1.3094 - acc: 0.6063\n",
      "Epoch 29/50\n",
      "12/12 [==============================] - 16s 1s/step - loss: 1.0706 - acc: 0.6732\n",
      "Epoch 30/50\n",
      "12/12 [==============================] - 15s 1s/step - loss: 1.0312 - acc: 0.6936\n",
      "Epoch 31/50\n",
      "12/12 [==============================] - 15s 1s/step - loss: 0.9988 - acc: 0.6867\n",
      "Epoch 32/50\n",
      "12/12 [==============================] - 15s 1s/step - loss: 1.0103 - acc: 0.6706\n",
      "Epoch 33/50\n",
      "12/12 [==============================] - 15s 1s/step - loss: 0.9843 - acc: 0.6867\n",
      "Epoch 34/50\n",
      "12/12 [==============================] - 15s 1s/step - loss: 0.8860 - acc: 0.7158\n",
      "Epoch 35/50\n",
      "12/12 [==============================] - 15s 1s/step - loss: 0.8220 - acc: 0.7161\n",
      "Epoch 36/50\n",
      "12/12 [==============================] - 15s 1s/step - loss: 0.8486 - acc: 0.7197\n",
      "Epoch 37/50\n",
      "12/12 [==============================] - 15s 1s/step - loss: 0.7290 - acc: 0.7588\n",
      "Epoch 38/50\n",
      "12/12 [==============================] - 14s 1s/step - loss: 0.6982 - acc: 0.7562\n",
      "Epoch 39/50\n",
      "12/12 [==============================] - 16s 1s/step - loss: 0.6726 - acc: 0.7901\n",
      "Epoch 40/50\n",
      "12/12 [==============================] - 14s 1s/step - loss: 0.6830 - acc: 0.7773\n",
      "Epoch 41/50\n",
      "12/12 [==============================] - 14s 1s/step - loss: 0.6347 - acc: 0.7836\n",
      "Epoch 42/50\n",
      "12/12 [==============================] - 14s 1s/step - loss: 0.5988 - acc: 0.7849\n",
      "Epoch 43/50\n",
      "12/12 [==============================] - 14s 1s/step - loss: 0.6217 - acc: 0.7990\n",
      "Epoch 44/50\n",
      "12/12 [==============================] - 15s 1s/step - loss: 0.5863 - acc: 0.8123\n",
      "Epoch 45/50\n",
      "12/12 [==============================] - 15s 1s/step - loss: 0.5129 - acc: 0.8542\n",
      "Epoch 46/50\n",
      "12/12 [==============================] - 14s 1s/step - loss: 0.5243 - acc: 0.8344\n",
      "Epoch 47/50\n",
      "12/12 [==============================] - 14s 1s/step - loss: 0.5058 - acc: 0.8251\n",
      "Epoch 48/50\n",
      "12/12 [==============================] - 14s 1s/step - loss: 0.5115 - acc: 0.8359\n",
      "Epoch 49/50\n",
      "12/12 [==============================] - 15s 1s/step - loss: 0.5269 - acc: 0.8185\n",
      "Epoch 50/50\n",
      "12/12 [==============================] - 15s 1s/step - loss: 0.5025 - acc: 0.8490\n"
     ]
    }
   ],
   "source": [
    "history = model.fit_generator(\n",
    "        train_generator, \n",
    "        steps_per_epoch=int(total_sample/batch_size),  \n",
    "        epochs=n_epochs,\n",
    "        verbose=1)"
   ]
  },
  {
   "cell_type": "code",
   "execution_count": 13,
   "metadata": {},
   "outputs": [
    {
     "data": {
      "image/png": "[encoded data removed]",
      "text/plain": [
       "<Figure size 504x288 with 1 Axes>"
      ]
     },
     "metadata": {
      "needs_background": "light"
     },
     "output_type": "display_data"
    }
   ],
   "source": [
    "plt.figure(figsize=(7,4))\n",
    "plt.plot([i+1 for i in range(n_epochs)],history.history['acc'],'-o',c='k',lw=2,markersize=9)\n",
    "plt.grid(True)\n",
    "plt.title(\"Training accuracy with epochs\\n\",fontsize=18)\n",
    "plt.xlabel(\"Training epochs\",fontsize=15)\n",
    "plt.ylabel(\"Training accuracy\",fontsize=15)\n",
    "plt.xticks(fontsize=15)\n",
    "plt.yticks(fontsize=15)\n",
    "plt.show()"
   ]
  },
  {
   "cell_type": "code",
   "execution_count": 14,
   "metadata": {},
   "outputs": [
    {
     "data": {
      "image/png": "[encoded data removed]",
      "text/plain": [
       "<Figure size 504x288 with 1 Axes>"
      ]
     },
     "metadata": {
      "needs_background": "light"
     },
     "output_type": "display_data"
    }
   ],
   "source": [
    "plt.figure(figsize=(7,4))\n",
    "plt.plot([i+1 for i in range(n_epochs)],history.history['loss'],'-o',c='k',lw=2,markersize=9)\n",
    "plt.grid(True)\n",
    "plt.title(\"Training loss with epochs\\n\",fontsize=18)\n",
    "plt.xlabel(\"Training epochs\",fontsize=15)\n",
    "plt.ylabel(\"Training loss\",fontsize=15)\n",
    "plt.xticks(fontsize=15)\n",
    "plt.yticks(fontsize=15)\n",
    "plt.show()"
   ]
  },
  {
   "cell_type": "code",
   "execution_count": 15,
   "metadata": {},
   "outputs": [],
   "source": [
    "# # create data generator\n",
    "# datagen = ImageDataGenerator(rescale=1.0/255.0)\n",
    "\n",
    "# train_it = datagen.flow_from_directory('database/',class_mode='categorical', batch_size=64, target_size=(64, 64))\n",
    "# test_it = datagen.flow_from_directory('testData/',class_mode='categorical', batch_size=64, target_size=(64, 64))"
   ]
  },
  {
   "cell_type": "code",
   "execution_count": 16,
   "metadata": {},
   "outputs": [],
   "source": [
    "# # fit model\n",
    "# history = model.fit_generator(train_it, steps_per_epoch=len(train_it),validation_data=test_it, validation_steps=len(test_it), epochs=65, verbose=1)"
   ]
  },
  {
   "cell_type": "code",
   "execution_count": 17,
   "metadata": {},
   "outputs": [],
   "source": [
    "# _, acc = model.evaluate_generator(test_it, steps=len(test_it), verbose=0)\n",
    "# print('> %.3f' % (acc * 100.0))"
   ]
  },
  {
   "cell_type": "code",
   "execution_count": 21,
   "metadata": {},
   "outputs": [],
   "source": [
    "from PIL import Image"
   ]
  },
  {
   "cell_type": "code",
   "execution_count": 22,
   "metadata": {},
   "outputs": [
    {
     "data": {
      "image/png": "[encoded data removed]",
      "text/plain": [
       "<Figure size 432x288 with 1 Axes>"
      ]
     },
     "metadata": {
      "needs_background": "light"
     },
     "output_type": "display_data"
    },
    {
     "data": {
      "image/png": "[encoded data removed]",
      "text/plain": [
       "<Figure size 432x288 with 1 Axes>"
      ]
     },
     "metadata": {
      "needs_background": "light"
     },
     "output_type": "display_data"
    }
   ],
   "source": [
    "img_one=Image.open('testData\\\\1\\IMG_9442.jpg')\n",
    "img_two=Image.open('testData\\\\2\\IMG_9036.jpg')\n",
    "\n",
    "plt.imshow(img_one)\n",
    "plt.show()\n",
    "\n",
    "plt.imshow(img_two)\n",
    "plt.show()"
   ]
  },
  {
   "cell_type": "code",
   "execution_count": 23,
   "metadata": {},
   "outputs": [],
   "source": [
    "import numpy as np\n",
    "img_one=np.expand_dims(img_one,axis=0)\n",
    "img_two=np.expand_dims(img_two,axis=0)"
   ]
  },
  {
   "cell_type": "code",
   "execution_count": 24,
   "metadata": {},
   "outputs": [
    {
     "data": {
      "text/plain": [
       "array([[1., 0., 0., 0., 0., 0., 0., 0., 0., 0., 0., 0., 0., 0., 0., 0.,\n",
       "        0., 0., 0., 0., 0., 0., 0., 0., 0., 0., 0., 0., 0., 0., 0., 0.,\n",
       "        0., 0., 0., 0.]], dtype=float32)"
      ]
     },
     "execution_count": 24,
     "metadata": {},
     "output_type": "execute_result"
    }
   ],
   "source": [
    "model.predict(img_one) # predicting right"
   ]
  },
  {
   "cell_type": "code",
   "execution_count": 25,
   "metadata": {},
   "outputs": [
    {
     "data": {
      "text/plain": [
       "array([[0., 0., 0., 0., 0., 0., 0., 0., 0., 0., 0., 0., 0., 0., 0., 0.,\n",
       "        0., 1., 0., 0., 0., 0., 0., 0., 0., 0., 0., 0., 0., 0., 0., 0.,\n",
       "        0., 0., 0., 0.]], dtype=float32)"
      ]
     },
     "execution_count": 25,
     "metadata": {},
     "output_type": "execute_result"
    }
   ],
   "source": [
    "model.predict(img_two) # wrong prediction "
   ]
  },
  {
   "cell_type": "code",
   "execution_count": null,
   "metadata": {},
   "outputs": [],
   "source": []
  }
 ],
 "metadata": {
  "kernelspec": {
   "display_name": "Python 3",
   "language": "python",
   "name": "python3"
  },
  "language_info": {
   "codemirror_mode": {
    "name": "ipython",
    "version": 3
   },
   "file_extension": ".py",
   "mimetype": "text/x-python",
   "name": "python",
   "nbconvert_exporter": "python",
   "pygments_lexer": "ipython3",
   "version": "3.7.4"
  }
 },
 "nbformat": 4,
 "nbformat_minor": 2
}
